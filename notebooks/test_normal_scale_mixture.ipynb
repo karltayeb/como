{
 "cells": [
  {
   "cell_type": "markdown",
   "metadata": {},
   "source": [
    "# Normal scale mixture tests"
   ]
  },
  {
   "cell_type": "code",
   "execution_count": 1,
   "metadata": {},
   "outputs": [],
   "source": [
    "%load_ext autoreload\n",
    "%autoreload 2"
   ]
  },
  {
   "cell_type": "code",
   "execution_count": 62,
   "metadata": {},
   "outputs": [],
   "source": [
    "from como.component_distributions import NormalScaleMixtureComponent, lossNSM, gradNSM, hessNSM, newtonNSM\n",
    "from como.component_distributions import _nsm_convolved_logpdf, eta2pi, pi2eta\n",
    "import numpy as np\n",
    "import jax.numpy as jnp\n",
    "from jax import jit\n",
    "import jax\n",
    "import matplotlib.pyplot as plt\n",
    "\n",
    "n = 100000\n",
    "scales = np.array([1.0, 2.0, 4.0, 8.0, 16.0, 32.0])\n",
    "eta = np.random.normal(size = scales.size-1)\n",
    "pi = np.array(eta2pi(eta))\n",
    "\n",
    "z = np.random.choice(6, replace=True, size=n, p=pi/pi.sum())\n",
    "beta = np.random.normal(size=n) * scales[z]\n",
    "se = np.ones(n)\n",
    "beta_hat = beta + np.random.normal(size=n) * se"
   ]
  },
  {
   "cell_type": "code",
   "execution_count": 63,
   "metadata": {},
   "outputs": [
    {
     "data": {
      "text/plain": [
       "DeviceArray(-364190.9, dtype=float32)"
      ]
     },
     "execution_count": 63,
     "metadata": {},
     "output_type": "execute_result"
    }
   ],
   "source": [
    "import jax.scipy as jsp\n",
    "from jax import vmap\n",
    "\n",
    "def mixpdf(beta, se, scales, pi):\n",
    "    sigmas = jnp.sqrt(se**2 + scales**2)\n",
    "    return jsp.stats.norm.pdf(beta, loc=0., scale=sigmas) @ pi\n",
    "\n",
    "mixpdf_vec = vmap(mixpdf, (0, 0, None, None), 0)\n",
    "\n",
    "L2 = lambda eta: jnp.sum(jnp.log(mixpdf_vec(beta_hat, se, scales, eta2pi(eta))))\n",
    "L2(eta)"
   ]
  },
  {
   "cell_type": "code",
   "execution_count": 64,
   "metadata": {},
   "outputs": [],
   "source": [
    "def mix_assignment_prop(beta, se, loc, scales, eta):\n",
    "    sigmas = jnp.sqrt(se**2 + scales**2)\n",
    "    # eta0 = jnp.concatenate([eta, jnp.array([0.])])\n",
    "    logpi = jnp.log(eta2pi(eta))\n",
    "    loglik = jsp.stats.norm.logpdf(beta, loc, scale=sigmas)\n",
    "    return jax.nn.softmax(loglik + logpi)\n",
    "\n",
    "mix_assigment_prop_vec = vmap(\n",
    "    mix_assignment_prop,\n",
    "    (0, 0, None, None, None), 0\n",
    ")\n",
    "\n",
    "@jit\n",
    "def emNSM(beta, se, loc, scales, eta):\n",
    "    R = mix_assigment_prop_vec(beta, se, loc, scales, eta)\n",
    "    Rsum = R.sum(0)\n",
    "    pi_new = Rsum / Rsum.sum()\n",
    "    return pi2eta(pi_new)"
   ]
  },
  {
   "cell_type": "code",
   "execution_count": 65,
   "metadata": {},
   "outputs": [
    {
     "name": "stdout",
     "output_type": "stream",
     "text": [
      "true loss: -364190.875 true pi: [0.1  0.38 0.02 0.2  0.11 0.19]\n"
     ]
    }
   ],
   "source": [
    "np.set_printoptions(precision=2)\n",
    "\n",
    "L = lambda eta: lossNSM(beta_hat, se, 0., scales, eta)\n",
    "print(\n",
    "    f'true loss: {L(eta):.3f}',\n",
    "    f'true pi: {eta2pi(eta)}'\n",
    ")"
   ]
  },
  {
   "cell_type": "code",
   "execution_count": 66,
   "metadata": {},
   "outputs": [
    {
     "name": "stdout",
     "output_type": "stream",
     "text": [
      "init loss: -364668.625 init pi: [0.17 0.17 0.17 0.17 0.17 0.17]\n"
     ]
    }
   ],
   "source": [
    "eta_init = np.zeros(scales.size-1)\n",
    "print(\n",
    "    f'init loss: {L(eta_init):.3f}',\n",
    "    f'init pi: {eta2pi(eta_init)}'\n",
    ")"
   ]
  },
  {
   "cell_type": "code",
   "execution_count": 67,
   "metadata": {},
   "outputs": [
    {
     "name": "stdout",
     "output_type": "stream",
     "text": [
      "loss: -364483.812 pi: [0.18 0.18 0.17 0.16 0.16 0.16]\n",
      "loss: -364411.500 pi: [0.18 0.18 0.16 0.15 0.15 0.17]\n",
      "loss: -364373.750 pi: [0.19 0.19 0.16 0.15 0.15 0.17]\n",
      "loss: -364351.125 pi: [0.19 0.19 0.16 0.14 0.15 0.17]\n",
      "loss: -364336.750 pi: [0.19 0.19 0.16 0.14 0.14 0.17]\n",
      "loss: -364327.281 pi: [0.19 0.19 0.16 0.14 0.14 0.18]\n",
      "loss: -364320.812 pi: [0.19 0.19 0.16 0.14 0.14 0.18]\n",
      "loss: -364316.125 pi: [0.19 0.2  0.16 0.14 0.14 0.18]\n",
      "loss: -364312.656 pi: [0.19 0.2  0.15 0.14 0.14 0.18]\n",
      "loss: -364309.875 pi: [0.19 0.2  0.15 0.14 0.14 0.18]\n",
      "loss: -364307.562 pi: [0.19 0.2  0.15 0.14 0.14 0.18]\n",
      "loss: -364305.562 pi: [0.19 0.2  0.15 0.14 0.14 0.18]\n",
      "loss: -364303.750 pi: [0.19 0.2  0.15 0.13 0.14 0.18]\n",
      "loss: -364302.125 pi: [0.19 0.21 0.15 0.13 0.14 0.18]\n",
      "loss: -364300.594 pi: [0.19 0.21 0.15 0.13 0.14 0.18]\n",
      "loss: -364299.062 pi: [0.19 0.21 0.15 0.13 0.14 0.18]\n",
      "loss: -364297.625 pi: [0.19 0.21 0.15 0.13 0.14 0.18]\n",
      "loss: -364296.250 pi: [0.19 0.21 0.15 0.13 0.14 0.18]\n",
      "loss: -364294.938 pi: [0.19 0.21 0.15 0.13 0.14 0.18]\n",
      "loss: -364293.594 pi: [0.19 0.21 0.15 0.13 0.14 0.18]\n",
      "loss: -364292.312 pi: [0.18 0.22 0.15 0.13 0.13 0.18]\n",
      "loss: -364291.062 pi: [0.18 0.22 0.15 0.13 0.13 0.18]\n",
      "loss: -364289.812 pi: [0.18 0.22 0.15 0.13 0.13 0.18]\n",
      "loss: -364288.625 pi: [0.18 0.22 0.15 0.14 0.13 0.18]\n",
      "loss: -364287.438 pi: [0.18 0.22 0.14 0.14 0.13 0.18]\n",
      "loss: -364286.281 pi: [0.18 0.22 0.14 0.14 0.13 0.18]\n",
      "loss: -364285.125 pi: [0.18 0.22 0.14 0.14 0.13 0.18]\n",
      "loss: -364284.000 pi: [0.18 0.22 0.14 0.14 0.13 0.18]\n",
      "loss: -364282.906 pi: [0.18 0.22 0.14 0.14 0.13 0.18]\n",
      "loss: -364281.781 pi: [0.18 0.23 0.14 0.14 0.13 0.18]\n",
      "loss: -364280.719 pi: [0.18 0.23 0.14 0.14 0.13 0.18]\n",
      "loss: -364279.656 pi: [0.18 0.23 0.14 0.14 0.13 0.18]\n",
      "loss: -364278.625 pi: [0.18 0.23 0.14 0.14 0.13 0.18]\n",
      "loss: -364277.594 pi: [0.18 0.23 0.14 0.14 0.13 0.18]\n",
      "loss: -364276.562 pi: [0.17 0.23 0.14 0.14 0.13 0.18]\n",
      "loss: -364275.562 pi: [0.17 0.23 0.14 0.14 0.13 0.18]\n",
      "loss: -364274.625 pi: [0.17 0.23 0.14 0.14 0.13 0.18]\n",
      "loss: -364273.625 pi: [0.17 0.23 0.14 0.14 0.13 0.18]\n",
      "loss: -364272.688 pi: [0.17 0.24 0.14 0.14 0.13 0.18]\n",
      "loss: -364271.750 pi: [0.17 0.24 0.14 0.14 0.13 0.18]\n",
      "loss: -364270.844 pi: [0.17 0.24 0.14 0.14 0.13 0.18]\n",
      "loss: -364269.938 pi: [0.17 0.24 0.13 0.14 0.13 0.18]\n",
      "loss: -364269.031 pi: [0.17 0.24 0.13 0.14 0.13 0.18]\n",
      "loss: -364268.125 pi: [0.17 0.24 0.13 0.14 0.13 0.18]\n",
      "loss: -364267.250 pi: [0.17 0.24 0.13 0.14 0.13 0.18]\n",
      "loss: -364266.375 pi: [0.17 0.24 0.13 0.14 0.13 0.18]\n",
      "loss: -364265.562 pi: [0.17 0.24 0.13 0.14 0.13 0.18]\n",
      "loss: -364264.688 pi: [0.17 0.24 0.13 0.14 0.13 0.18]\n",
      "loss: -364263.875 pi: [0.17 0.25 0.13 0.14 0.13 0.18]\n",
      "loss: -364263.062 pi: [0.17 0.25 0.13 0.14 0.13 0.18]\n",
      "loss: -364262.250 pi: [0.17 0.25 0.13 0.14 0.13 0.18]\n",
      "loss: -364261.438 pi: [0.17 0.25 0.13 0.14 0.13 0.18]\n",
      "loss: -364260.656 pi: [0.16 0.25 0.13 0.14 0.13 0.18]\n",
      "loss: -364259.906 pi: [0.16 0.25 0.13 0.14 0.13 0.18]\n",
      "loss: -364259.125 pi: [0.16 0.25 0.13 0.14 0.13 0.18]\n",
      "loss: -364258.375 pi: [0.16 0.25 0.13 0.14 0.13 0.18]\n",
      "loss: -364257.656 pi: [0.16 0.25 0.13 0.14 0.13 0.18]\n",
      "loss: -364256.906 pi: [0.16 0.25 0.13 0.14 0.13 0.18]\n",
      "loss: -364256.188 pi: [0.16 0.25 0.13 0.14 0.13 0.18]\n",
      "loss: -364255.500 pi: [0.16 0.26 0.12 0.14 0.13 0.18]\n",
      "loss: -364254.781 pi: [0.16 0.26 0.12 0.14 0.13 0.18]\n",
      "loss: -364254.062 pi: [0.16 0.26 0.12 0.14 0.13 0.18]\n",
      "loss: -364253.406 pi: [0.16 0.26 0.12 0.14 0.13 0.18]\n",
      "loss: -364252.719 pi: [0.16 0.26 0.12 0.14 0.13 0.18]\n",
      "loss: -364252.062 pi: [0.16 0.26 0.12 0.14 0.13 0.18]\n",
      "loss: -364251.375 pi: [0.16 0.26 0.12 0.14 0.13 0.18]\n",
      "loss: -364250.750 pi: [0.16 0.26 0.12 0.14 0.13 0.18]\n",
      "loss: -364250.062 pi: [0.16 0.26 0.12 0.14 0.13 0.18]\n",
      "loss: -364249.438 pi: [0.16 0.26 0.12 0.14 0.13 0.18]\n",
      "loss: -364248.812 pi: [0.16 0.26 0.12 0.14 0.13 0.18]\n",
      "loss: -364248.188 pi: [0.16 0.26 0.12 0.14 0.13 0.18]\n",
      "loss: -364247.625 pi: [0.16 0.27 0.12 0.14 0.13 0.18]\n",
      "loss: -364247.000 pi: [0.16 0.27 0.12 0.14 0.13 0.18]\n",
      "loss: -364246.406 pi: [0.16 0.27 0.12 0.15 0.13 0.18]\n",
      "loss: -364245.812 pi: [0.15 0.27 0.12 0.15 0.13 0.18]\n",
      "loss: -364245.250 pi: [0.15 0.27 0.12 0.15 0.13 0.18]\n",
      "loss: -364244.688 pi: [0.15 0.27 0.12 0.15 0.13 0.18]\n",
      "loss: -364244.062 pi: [0.15 0.27 0.11 0.15 0.13 0.18]\n",
      "loss: -364243.531 pi: [0.15 0.27 0.11 0.15 0.13 0.18]\n",
      "loss: -364242.969 pi: [0.15 0.27 0.11 0.15 0.13 0.18]\n",
      "loss: -364242.438 pi: [0.15 0.27 0.11 0.15 0.13 0.18]\n",
      "loss: -364241.875 pi: [0.15 0.27 0.11 0.15 0.13 0.18]\n",
      "loss: -364241.375 pi: [0.15 0.27 0.11 0.15 0.13 0.18]\n",
      "loss: -364240.812 pi: [0.15 0.27 0.11 0.15 0.13 0.18]\n",
      "loss: -364240.312 pi: [0.15 0.27 0.11 0.15 0.13 0.18]\n",
      "loss: -364239.812 pi: [0.15 0.28 0.11 0.15 0.13 0.18]\n",
      "loss: -364239.281 pi: [0.15 0.28 0.11 0.15 0.13 0.18]\n",
      "loss: -364238.812 pi: [0.15 0.28 0.11 0.15 0.13 0.18]\n",
      "loss: -364238.312 pi: [0.15 0.28 0.11 0.15 0.13 0.18]\n",
      "loss: -364237.812 pi: [0.15 0.28 0.11 0.15 0.13 0.18]\n",
      "loss: -364237.312 pi: [0.15 0.28 0.11 0.15 0.13 0.18]\n",
      "loss: -364236.844 pi: [0.15 0.28 0.11 0.15 0.13 0.18]\n",
      "loss: -364236.375 pi: [0.15 0.28 0.11 0.15 0.13 0.18]\n",
      "loss: -364235.938 pi: [0.15 0.28 0.11 0.15 0.13 0.19]\n",
      "loss: -364235.469 pi: [0.15 0.28 0.11 0.15 0.13 0.19]\n",
      "loss: -364235.000 pi: [0.15 0.28 0.11 0.15 0.13 0.19]\n",
      "loss: -364234.531 pi: [0.15 0.28 0.11 0.15 0.13 0.19]\n",
      "loss: -364234.094 pi: [0.15 0.28 0.11 0.15 0.13 0.19]\n",
      "loss: -364233.656 pi: [0.15 0.28 0.1  0.15 0.13 0.19]\n",
      "loss: -364233.219 pi: [0.15 0.28 0.1  0.15 0.13 0.19]\n"
     ]
    }
   ],
   "source": [
    "eta_est = eta_init\n",
    "losses = [L(eta_est)]\n",
    "for _ in range(100):\n",
    "    eta_est = emNSM(beta_hat, se, 0., scales, eta_est)\n",
    "    losses.append(L(eta_est))\n",
    "    print(\n",
    "        f'loss: {losses[-1]:.3f}',\n",
    "        f'pi: {eta2pi(eta_est)}'\n",
    "    )"
   ]
  },
  {
   "cell_type": "code",
   "execution_count": 68,
   "metadata": {},
   "outputs": [
    {
     "data": {
      "text/plain": [
       "[<matplotlib.lines.Line2D at 0x7fc7ac415400>]"
      ]
     },
     "execution_count": 68,
     "metadata": {},
     "output_type": "execute_result"
    },
    {
     "data": {
      "image/png": "[encoded data removed]",
      "text/plain": [
       "<Figure size 432x288 with 1 Axes>"
      ]
     },
     "metadata": {
      "needs_background": "light"
     },
     "output_type": "display_data"
    }
   ],
   "source": [
    "plt.plot(losses)"
   ]
  },
  {
   "cell_type": "code",
   "execution_count": 69,
   "metadata": {},
   "outputs": [],
   "source": [
    "from como.component_distributions import NormalScaleMixtureComponent\n",
    "\n",
    "f = NormalScaleMixtureComponent(\n",
    "    0.0, scales, np.ones(scales.size) / scales.size)\n",
    "\n",
    "losses = [f.convolved_logpdf(beta_hat, se).sum()]\n",
    "for _ in range(20):\n",
    "    f.update(dict(beta=beta_hat, se=se, y=0))\n",
    "    losses.append(f.convolved_logpdf(beta_hat, se).sum())"
   ]
  },
  {
   "cell_type": "code",
   "execution_count": 70,
   "metadata": {},
   "outputs": [],
   "source": [
    "data = dict(beta=beta_hat, se=se, y=1.)"
   ]
  },
  {
   "cell_type": "code",
   "execution_count": 71,
   "metadata": {},
   "outputs": [
    {
     "name": "stdout",
     "output_type": "stream",
     "text": [
      "CPU times: user 307 ms, sys: 17.7 ms, total: 324 ms\n",
      "Wall time: 370 ms\n"
     ]
    },
    {
     "data": {
      "text/plain": [
       "DeviceArray(-364411.5, dtype=float32)"
      ]
     },
     "execution_count": 71,
     "metadata": {},
     "output_type": "execute_result"
    }
   ],
   "source": [
    "%%time\n",
    "f = NormalScaleMixtureComponent(\n",
    "    0.0, scales, np.ones(scales.size) / scales.size)\n",
    "f.update(data, niter=2)\n",
    "f.convolved_logpdf(beta_hat, se).sum()"
   ]
  },
  {
   "cell_type": "code",
   "execution_count": 78,
   "metadata": {},
   "outputs": [
    {
     "name": "stdout",
     "output_type": "stream",
     "text": [
      "272 ms ± 12.8 ms per loop (mean ± std. dev. of 7 runs, 1 loop each)\n"
     ]
    },
    {
     "data": {
      "text/plain": [
       "DeviceArray(-364214.44, dtype=float32)"
      ]
     },
     "execution_count": 78,
     "metadata": {},
     "output_type": "execute_result"
    }
   ],
   "source": [
    "f = NormalScaleMixtureComponent(\n",
    "    0.0, scales, np.ones(scales.size) / scales.size)\n",
    "%timeit f.update(data, niter=20)\n",
    "f.convolved_logpdf(beta_hat, se).sum()"
   ]
  },
  {
   "cell_type": "code",
   "execution_count": 80,
   "metadata": {},
   "outputs": [
    {
     "name": "stdout",
     "output_type": "stream",
     "text": [
      "654 ms ± 10.2 ms per loop (mean ± std. dev. of 7 runs, 1 loop each)\n"
     ]
    },
    {
     "data": {
      "text/plain": [
       "DeviceArray(-364187.7, dtype=float32)"
      ]
     },
     "execution_count": 80,
     "metadata": {},
     "output_type": "execute_result"
    }
   ],
   "source": [
    "f = NormalScaleMixtureComponent(\n",
    "    0.0, scales, np.ones(scales.size) / scales.size)\n",
    "%timeit f.update(data, niter=200)\n",
    "f.convolved_logpdf(beta_hat, se).sum()"
   ]
  },
  {
   "cell_type": "code",
   "execution_count": 77,
   "metadata": {},
   "outputs": [
    {
     "name": "stdout",
     "output_type": "stream",
     "text": [
      "CPU times: user 5.52 s, sys: 157 ms, total: 5.68 s\n",
      "Wall time: 4.58 s\n"
     ]
    },
    {
     "data": {
      "text/plain": [
       "DeviceArray(-364187.6, dtype=float32)"
      ]
     },
     "execution_count": 77,
     "metadata": {},
     "output_type": "execute_result"
    }
   ],
   "source": [
    "%%time\n",
    "f = NormalScaleMixtureComponent(\n",
    "    0.0, scales, np.ones(scales.size) / scales.size)\n",
    "f.update(data, niter=2000)\n",
    "f.convolved_logpdf(beta_hat, se).sum()"
   ]
  }
 ],
 "metadata": {
  "interpreter": {
   "hash": "aee8b7b246df8f9039afb4144a1f6fd8d2ca17a180786b69acc140d282b71a49"
  },
  "kernelspec": {
   "display_name": "Python 3.9.5 64-bit",
   "language": "python",
   "name": "python3"
  },
  "language_info": {
   "codemirror_mode": {
    "name": "ipython",
    "version": 3
   },
   "file_extension": ".py",
   "mimetype": "text/x-python",
   "name": "python",
   "nbconvert_exporter": "python",
   "pygments_lexer": "ipython3",
   "version": "3.8.3"
  },
  "orig_nbformat": 4
 },
 "nbformat": 4,
 "nbformat_minor": 2
}
