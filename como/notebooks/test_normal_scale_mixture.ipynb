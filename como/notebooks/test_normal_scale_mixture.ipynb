{
 "cells": [
  {
   "cell_type": "markdown",
   "metadata": {},
   "source": [
    "# Normal scale mixture tests"
   ]
  },
  {
   "cell_type": "code",
   "execution_count": 93,
   "metadata": {},
   "outputs": [
    {
     "name": "stdout",
     "output_type": "stream",
     "text": [
      "The autoreload extension is already loaded. To reload it, use:\n",
      "  %reload_ext autoreload\n"
     ]
    }
   ],
   "source": [
    "%load_ext autoreload\n",
    "%autoreload 2\n"
   ]
  },
  {
   "cell_type": "code",
   "execution_count": 94,
   "metadata": {},
   "outputs": [],
   "source": [
    "#!pip install -e ~/Research/como"
   ]
  },
  {
   "cell_type": "code",
   "execution_count": 95,
   "metadata": {},
   "outputs": [],
   "source": [
    "from como.component_distributions import NormalScaleMixtureComponent, lossNSM, gradNSM, hessNSM, newtonNSM\n",
    "from como.component_distributions import _nsm_convolved_logpdf, eta2pi, pi2eta\n",
    "import numpy as np\n",
    "import jax.numpy as jnp\n",
    "from jax import jit\n",
    "import jax\n",
    "import matplotlib.pyplot as plt\n",
    "\n",
    "n = 100000\n",
    "scales = np.array([1.0, 2.0, 4.0, 8.0, 16.0, 32.0])\n",
    "eta = np.random.normal(size = scales.size-1)\n",
    "pi = np.array(eta2pi(eta))\n",
    "\n",
    "z = np.random.choice(6, replace=True, size=n, p=pi/pi.sum())\n",
    "beta = np.random.normal(size=n) * scales[z]\n",
    "se = np.ones(n)\n",
    "beta_hat = beta + np.random.normal(size=n) * se"
   ]
  },
  {
   "cell_type": "code",
   "execution_count": 96,
   "metadata": {},
   "outputs": [
    {
     "data": {
      "text/plain": [
       "DeviceArray(-380537.16, dtype=float32)"
      ]
     },
     "execution_count": 96,
     "metadata": {},
     "output_type": "execute_result"
    }
   ],
   "source": [
    "import jax.scipy as jsp\n",
    "from jax import vmap\n",
    "\n",
    "def mixpdf(beta, se, scales, pi):\n",
    "    sigmas = jnp.sqrt(se**2 + scales**2)\n",
    "    return jsp.stats.norm.pdf(beta, loc=0., scale=sigmas) @ pi\n",
    "\n",
    "mixpdf_vec = vmap(mixpdf, (0, 0, None, None), 0)\n",
    "\n",
    "L2 = lambda eta: jnp.sum(jnp.log(mixpdf_vec(beta_hat, se, scales, eta2pi(eta))))\n",
    "L2(eta)"
   ]
  },
  {
   "cell_type": "code",
   "execution_count": 97,
   "metadata": {},
   "outputs": [],
   "source": [
    "def mix_assignment_prop(beta, se, loc, scales, eta):\n",
    "    sigmas = jnp.sqrt(se**2 + scales**2)\n",
    "    # eta0 = jnp.concatenate([eta, jnp.array([0.])])\n",
    "    logpi = jnp.log(eta2pi(eta))\n",
    "    loglik = jsp.stats.norm.logpdf(beta, loc, scale=sigmas)\n",
    "    return jax.nn.softmax(loglik + logpi)\n",
    "\n",
    "mix_assigment_prop_vec = vmap(\n",
    "    mix_assignment_prop,\n",
    "    (0, 0, None, None, None), 0\n",
    ")\n",
    "\n",
    "@jit\n",
    "def emNSM(beta, se, loc, scales, eta):\n",
    "    R = mix_assigment_prop_vec(beta, se, loc, scales, eta)\n",
    "    Rsum = R.sum(0)\n",
    "    pi_new = Rsum / Rsum.sum()\n",
    "    return pi2eta(pi_new)"
   ]
  },
  {
   "cell_type": "code",
   "execution_count": 98,
   "metadata": {},
   "outputs": [
    {
     "name": "stdout",
     "output_type": "stream",
     "text": [
      "true loss: -380537.188 true pi: [0.11 0.11 0.26 0.22 0.06 0.24]\n"
     ]
    }
   ],
   "source": [
    "np.set_printoptions(precision=2)\n",
    "\n",
    "L = lambda eta: lossNSM(beta_hat, se, 0., scales, eta)\n",
    "print(\n",
    "    f'true loss: {L(eta):.3f}',\n",
    "    f'true pi: {eta2pi(eta)}'\n",
    ")"
   ]
  },
  {
   "cell_type": "code",
   "execution_count": 99,
   "metadata": {},
   "outputs": [
    {
     "name": "stdout",
     "output_type": "stream",
     "text": [
      "init loss: -381315.938 init pi: [0.17 0.17 0.17 0.17 0.17 0.17]\n"
     ]
    }
   ],
   "source": [
    "eta_init = np.zeros(scales.size-1)\n",
    "print(\n",
    "    f'init loss: {L(eta_init):.3f}',\n",
    "    f'init pi: {eta2pi(eta_init)}'\n",
    ")"
   ]
  },
  {
   "cell_type": "code",
   "execution_count": 100,
   "metadata": {},
   "outputs": [
    {
     "name": "stdout",
     "output_type": "stream",
     "text": [
      "loss: -381033.625 pi: [0.15 0.16 0.17 0.17 0.17 0.18]\n",
      "loss: -380936.750 pi: [0.14 0.15 0.17 0.18 0.17 0.19]\n",
      "loss: -380878.969 pi: [0.13 0.15 0.18 0.18 0.16 0.19]\n",
      "loss: -380834.500 pi: [0.13 0.15 0.18 0.18 0.16 0.19]\n",
      "loss: -380797.625 pi: [0.13 0.15 0.19 0.18 0.15 0.2 ]\n",
      "loss: -380766.312 pi: [0.12 0.15 0.19 0.19 0.15 0.2 ]\n",
      "loss: -380739.562 pi: [0.12 0.15 0.2  0.19 0.15 0.2 ]\n",
      "loss: -380716.438 pi: [0.12 0.15 0.2  0.19 0.14 0.2 ]\n",
      "loss: -380696.500 pi: [0.12 0.15 0.21 0.19 0.14 0.2 ]\n",
      "loss: -380679.156 pi: [0.11 0.15 0.21 0.19 0.14 0.2 ]\n",
      "loss: -380664.000 pi: [0.11 0.15 0.21 0.19 0.13 0.2 ]\n",
      "loss: -380650.812 pi: [0.11 0.15 0.22 0.19 0.13 0.2 ]\n",
      "loss: -380639.250 pi: [0.11 0.15 0.22 0.19 0.13 0.21]\n",
      "loss: -380629.094 pi: [0.11 0.15 0.22 0.19 0.12 0.21]\n",
      "loss: -380620.156 pi: [0.11 0.15 0.22 0.19 0.12 0.21]\n",
      "loss: -380612.281 pi: [0.11 0.15 0.23 0.19 0.12 0.21]\n",
      "loss: -380605.344 pi: [0.11 0.15 0.23 0.19 0.12 0.21]\n",
      "loss: -380599.188 pi: [0.11 0.15 0.23 0.19 0.12 0.21]\n",
      "loss: -380593.719 pi: [0.1  0.14 0.23 0.19 0.11 0.21]\n",
      "loss: -380588.906 pi: [0.1  0.14 0.23 0.19 0.11 0.21]\n",
      "loss: -380584.562 pi: [0.1  0.14 0.23 0.19 0.11 0.21]\n",
      "loss: -380580.750 pi: [0.1  0.14 0.24 0.19 0.11 0.21]\n",
      "loss: -380577.312 pi: [0.1  0.14 0.24 0.19 0.11 0.22]\n",
      "loss: -380574.250 pi: [0.1  0.14 0.24 0.19 0.11 0.22]\n",
      "loss: -380571.500 pi: [0.1  0.14 0.24 0.2  0.1  0.22]\n",
      "loss: -380569.000 pi: [0.1  0.14 0.24 0.2  0.1  0.22]\n",
      "loss: -380566.812 pi: [0.1  0.14 0.24 0.2  0.1  0.22]\n",
      "loss: -380564.812 pi: [0.1  0.14 0.24 0.2  0.1  0.22]\n",
      "loss: -380563.000 pi: [0.1  0.14 0.24 0.2  0.1  0.22]\n",
      "loss: -380561.344 pi: [0.1  0.14 0.24 0.2  0.1  0.22]\n",
      "loss: -380559.844 pi: [0.1  0.14 0.25 0.2  0.1  0.22]\n",
      "loss: -380558.500 pi: [0.1  0.14 0.25 0.2  0.1  0.22]\n",
      "loss: -380557.250 pi: [0.1  0.14 0.25 0.2  0.1  0.22]\n",
      "loss: -380556.125 pi: [0.1  0.14 0.25 0.2  0.1  0.22]\n",
      "loss: -380555.125 pi: [0.1  0.14 0.25 0.2  0.09 0.22]\n",
      "loss: -380554.188 pi: [0.1  0.14 0.25 0.2  0.09 0.22]\n",
      "loss: -380553.312 pi: [0.1  0.14 0.25 0.2  0.09 0.22]\n",
      "loss: -380552.500 pi: [0.1  0.14 0.25 0.2  0.09 0.22]\n",
      "loss: -380551.750 pi: [0.1  0.14 0.25 0.2  0.09 0.22]\n",
      "loss: -380551.062 pi: [0.1  0.14 0.25 0.2  0.09 0.22]\n",
      "loss: -380550.438 pi: [0.1  0.14 0.25 0.2  0.09 0.22]\n",
      "loss: -380549.844 pi: [0.1  0.14 0.25 0.2  0.09 0.22]\n",
      "loss: -380549.281 pi: [0.1  0.14 0.25 0.2  0.09 0.22]\n",
      "loss: -380548.781 pi: [0.1  0.14 0.25 0.2  0.09 0.22]\n",
      "loss: -380548.312 pi: [0.1  0.14 0.25 0.2  0.09 0.22]\n",
      "loss: -380547.844 pi: [0.1  0.14 0.25 0.2  0.09 0.22]\n",
      "loss: -380547.438 pi: [0.1  0.14 0.25 0.2  0.09 0.22]\n",
      "loss: -380547.000 pi: [0.1  0.14 0.25 0.2  0.09 0.23]\n",
      "loss: -380546.656 pi: [0.1  0.14 0.25 0.2  0.09 0.23]\n",
      "loss: -380546.312 pi: [0.1  0.14 0.25 0.2  0.09 0.23]\n",
      "loss: -380545.938 pi: [0.1  0.14 0.25 0.2  0.08 0.23]\n",
      "loss: -380545.625 pi: [0.1  0.14 0.25 0.2  0.08 0.23]\n",
      "loss: -380545.312 pi: [0.1  0.13 0.25 0.2  0.08 0.23]\n",
      "loss: -380545.031 pi: [0.1  0.13 0.25 0.2  0.08 0.23]\n",
      "loss: -380544.750 pi: [0.1  0.13 0.26 0.2  0.08 0.23]\n",
      "loss: -380544.500 pi: [0.1  0.13 0.26 0.2  0.08 0.23]\n",
      "loss: -380544.250 pi: [0.1  0.13 0.26 0.2  0.08 0.23]\n",
      "loss: -380544.000 pi: [0.1  0.13 0.26 0.2  0.08 0.23]\n",
      "loss: -380543.812 pi: [0.1  0.13 0.26 0.2  0.08 0.23]\n",
      "loss: -380543.562 pi: [0.1  0.13 0.26 0.2  0.08 0.23]\n",
      "loss: -380543.375 pi: [0.1  0.13 0.26 0.2  0.08 0.23]\n",
      "loss: -380543.156 pi: [0.1  0.13 0.26 0.2  0.08 0.23]\n",
      "loss: -380542.938 pi: [0.1  0.13 0.26 0.2  0.08 0.23]\n",
      "loss: -380542.750 pi: [0.1  0.13 0.26 0.2  0.08 0.23]\n",
      "loss: -380542.594 pi: [0.1  0.13 0.26 0.2  0.08 0.23]\n",
      "loss: -380542.438 pi: [0.1  0.13 0.26 0.2  0.08 0.23]\n",
      "loss: -380542.250 pi: [0.1  0.13 0.26 0.2  0.08 0.23]\n",
      "loss: -380542.094 pi: [0.1  0.13 0.26 0.2  0.08 0.23]\n",
      "loss: -380541.938 pi: [0.1  0.13 0.26 0.21 0.08 0.23]\n",
      "loss: -380541.750 pi: [0.1  0.13 0.26 0.21 0.08 0.23]\n",
      "loss: -380541.625 pi: [0.1  0.13 0.26 0.21 0.08 0.23]\n",
      "loss: -380541.500 pi: [0.1  0.13 0.26 0.21 0.08 0.23]\n",
      "loss: -380541.344 pi: [0.1  0.13 0.26 0.21 0.08 0.23]\n",
      "loss: -380541.188 pi: [0.1  0.13 0.26 0.21 0.08 0.23]\n",
      "loss: -380541.094 pi: [0.1  0.13 0.26 0.21 0.08 0.23]\n",
      "loss: -380540.938 pi: [0.1  0.13 0.26 0.21 0.08 0.23]\n",
      "loss: -380540.812 pi: [0.1  0.13 0.26 0.21 0.08 0.23]\n",
      "loss: -380540.719 pi: [0.1  0.13 0.26 0.21 0.08 0.23]\n",
      "loss: -380540.625 pi: [0.1  0.13 0.26 0.21 0.08 0.23]\n",
      "loss: -380540.500 pi: [0.1  0.13 0.26 0.21 0.08 0.23]\n",
      "loss: -380540.406 pi: [0.1  0.13 0.26 0.21 0.08 0.23]\n",
      "loss: -380540.281 pi: [0.1  0.13 0.26 0.21 0.08 0.23]\n",
      "loss: -380540.188 pi: [0.1  0.13 0.26 0.21 0.08 0.23]\n",
      "loss: -380540.094 pi: [0.1  0.13 0.26 0.21 0.08 0.23]\n",
      "loss: -380540.000 pi: [0.1  0.13 0.26 0.21 0.08 0.23]\n",
      "loss: -380539.906 pi: [0.1  0.13 0.26 0.21 0.08 0.23]\n",
      "loss: -380539.812 pi: [0.1  0.13 0.26 0.21 0.07 0.23]\n",
      "loss: -380539.719 pi: [0.1  0.13 0.26 0.21 0.07 0.23]\n",
      "loss: -380539.625 pi: [0.1  0.13 0.26 0.21 0.07 0.23]\n",
      "loss: -380539.562 pi: [0.1  0.13 0.26 0.21 0.07 0.23]\n",
      "loss: -380539.469 pi: [0.1  0.13 0.26 0.21 0.07 0.23]\n",
      "loss: -380539.406 pi: [0.1  0.13 0.26 0.21 0.07 0.23]\n",
      "loss: -380539.312 pi: [0.1  0.13 0.26 0.21 0.07 0.23]\n",
      "loss: -380539.250 pi: [0.1  0.13 0.26 0.21 0.07 0.23]\n",
      "loss: -380539.188 pi: [0.1  0.13 0.26 0.21 0.07 0.23]\n",
      "loss: -380539.125 pi: [0.1  0.13 0.26 0.21 0.07 0.23]\n",
      "loss: -380539.031 pi: [0.1  0.13 0.26 0.21 0.07 0.23]\n",
      "loss: -380538.969 pi: [0.1  0.13 0.26 0.21 0.07 0.23]\n",
      "loss: -380538.938 pi: [0.1  0.13 0.26 0.21 0.07 0.23]\n",
      "loss: -380538.875 pi: [0.1  0.13 0.26 0.21 0.07 0.23]\n"
     ]
    }
   ],
   "source": [
    "from como.component_distributions import emNSM\n",
    "\n",
    "eta_est = eta_init\n",
    "losses = [L(eta_est)]\n",
    "for _ in range(100):\n",
    "    eta_est = emNSM(beta_hat, se, 0., scales, eta_est)\n",
    "    losses.append(L(eta_est))\n",
    "    print(\n",
    "        f'loss: {losses[-1]:.3f}',\n",
    "        f'pi: {eta2pi(eta_est)}'\n",
    "    )"
   ]
  },
  {
   "cell_type": "code",
   "execution_count": 101,
   "metadata": {},
   "outputs": [
    {
     "data": {
      "text/plain": [
       "[<matplotlib.lines.Line2D at 0x7fe280cbc7c0>]"
      ]
     },
     "execution_count": 101,
     "metadata": {},
     "output_type": "execute_result"
    },
    {
     "data": {
      "image/png": "[encoded data removed]",
      "text/plain": [
       "<Figure size 432x288 with 1 Axes>"
      ]
     },
     "metadata": {
      "needs_background": "light"
     },
     "output_type": "display_data"
    }
   ],
   "source": [
    "plt.plot(losses)"
   ]
  },
  {
   "cell_type": "code",
   "execution_count": 102,
   "metadata": {},
   "outputs": [],
   "source": [
    "from como.component_distributions import NormalScaleMixtureComponent\n",
    "\n",
    "f = NormalScaleMixtureComponent(\n",
    "    0.0, scales, np.ones(scales.size) / scales.size)\n",
    "\n",
    "losses = [f.convolved_logpdf(beta_hat, se).sum()]"
   ]
  },
  {
   "cell_type": "code",
   "execution_count": 103,
   "metadata": {},
   "outputs": [],
   "source": [
    "for _ in range(20):\n",
    "    f.update(dict(beta=beta_hat, se=se, y=0))\n",
    "    losses.append(f.convolved_logpdf(beta_hat, se).sum())"
   ]
  },
  {
   "cell_type": "code",
   "execution_count": 104,
   "metadata": {},
   "outputs": [],
   "source": [
    "data = dict(beta=beta_hat, se=se, y=1.)"
   ]
  },
  {
   "cell_type": "code",
   "execution_count": 105,
   "metadata": {},
   "outputs": [
    {
     "name": "stdout",
     "output_type": "stream",
     "text": [
      "CPU times: user 251 ms, sys: 16.5 ms, total: 268 ms\n",
      "Wall time: 257 ms\n"
     ]
    },
    {
     "data": {
      "text/plain": [
       "DeviceArray(-380936.75, dtype=float32)"
      ]
     },
     "execution_count": 105,
     "metadata": {},
     "output_type": "execute_result"
    }
   ],
   "source": [
    "%%time\n",
    "f = NormalScaleMixtureComponent(\n",
    "    0.0, scales, np.ones(scales.size) / scales.size)\n",
    "f.update(data, niter=2)\n",
    "f.convolved_logpdf(beta_hat, se).sum()"
   ]
  },
  {
   "cell_type": "code",
   "execution_count": 106,
   "metadata": {},
   "outputs": [
    {
     "data": {
      "text/plain": [
       "True"
      ]
     },
     "execution_count": 106,
     "metadata": {},
     "output_type": "execute_result"
    }
   ],
   "source": [
    "f.get_weights(data)\n",
    "f.index is None"
   ]
  },
  {
   "cell_type": "code",
   "execution_count": 107,
   "metadata": {},
   "outputs": [
    {
     "name": "stdout",
     "output_type": "stream",
     "text": [
      "268 ms ± 5.05 ms per loop (mean ± std. dev. of 7 runs, 1 loop each)\n"
     ]
    },
    {
     "data": {
      "text/plain": [
       "DeviceArray(-380537., dtype=float32)"
      ]
     },
     "execution_count": 107,
     "metadata": {},
     "output_type": "execute_result"
    }
   ],
   "source": [
    "f = NormalScaleMixtureComponent(\n",
    "    0.0, scales, np.ones(scales.size) / scales.size)\n",
    "%timeit f.update(data, niter=20)\n",
    "f.convolved_logpdf(beta_hat, se).sum()"
   ]
  },
  {
   "cell_type": "code",
   "execution_count": 108,
   "metadata": {},
   "outputs": [
    {
     "name": "stdout",
     "output_type": "stream",
     "text": [
      "664 ms ± 9.81 ms per loop (mean ± std. dev. of 7 runs, 1 loop each)\n"
     ]
    },
    {
     "data": {
      "text/plain": [
       "DeviceArray(-380536.25, dtype=float32)"
      ]
     },
     "execution_count": 108,
     "metadata": {},
     "output_type": "execute_result"
    }
   ],
   "source": [
    "f = NormalScaleMixtureComponent(\n",
    "    0.0, scales, np.ones(scales.size) / scales.size)\n",
    "%timeit f.update(data, niter=200)\n",
    "f.convolved_logpdf(beta_hat, se).sum()"
   ]
  },
  {
   "cell_type": "code",
   "execution_count": 109,
   "metadata": {},
   "outputs": [
    {
     "name": "stdout",
     "output_type": "stream",
     "text": [
      "CPU times: user 5.57 s, sys: 140 ms, total: 5.71 s\n",
      "Wall time: 4.84 s\n"
     ]
    },
    {
     "data": {
      "text/plain": [
       "DeviceArray(-380536.22, dtype=float32)"
      ]
     },
     "execution_count": 109,
     "metadata": {},
     "output_type": "execute_result"
    }
   ],
   "source": [
    "%%time\n",
    "f = NormalScaleMixtureComponent(\n",
    "    0.0, scales, np.ones(scales.size) / scales.size)\n",
    "f.update(data, niter=2000)\n",
    "f.convolved_logpdf(beta_hat, se).sum()"
   ]
  },
  {
   "cell_type": "markdown",
   "metadata": {},
   "source": [
    "## PointNormalMixture\n",
    "\n",
    "No covariates, just a mixture of a point normal and a scale normal mixture (ie ASH)"
   ]
  },
  {
   "cell_type": "code",
   "execution_count": 110,
   "metadata": {},
   "outputs": [],
   "source": [
    "## simulate some data\n",
    "np.random.seed(3)\n",
    "\n",
    "\n",
    "n = 10000\n",
    "scales = np.array([1.0, 2.0, 4.0, 8.0, 16.0, 32.0])\n",
    "eta = np.random.normal(size = scales.size-1)\n",
    "pi = np.array(eta2pi(eta))\n",
    "pi0 = 0.5\n",
    "\n",
    "z = np.random.choice(6, replace=True, size=n, p=pi/pi.sum())\n",
    "null = np.random.binomial(1, 1 - pi0, size=n)\n",
    "beta = np.random.normal(size=n) * scales[z] * null\n",
    "se = np.ones(n)\n",
    "beta_hat = beta + np.random.normal(size=n) * se\n",
    "\n",
    "data = dict(\n",
    "    beta = beta_hat,\n",
    "    se = se\n",
    ")"
   ]
  },
  {
   "cell_type": "code",
   "execution_count": 111,
   "metadata": {},
   "outputs": [],
   "source": [
    "from como.twococomo import PointNormalMixture\n",
    "from como.utils import is_monotone\n",
    "\n",
    "fit = PointNormalMixture(\n",
    "    data,\n",
    "    f1_args = dict(scales=scales, pi = np.ones(scales.size) / scales.size)\n",
    ")\n",
    "fit.fit(niter=10)"
   ]
  },
  {
   "cell_type": "code",
   "execution_count": 112,
   "metadata": {},
   "outputs": [
    {
     "data": {
      "text/plain": [
       "(DeviceArray(False, dtype=bool), True)"
      ]
     },
     "execution_count": 112,
     "metadata": {},
     "output_type": "execute_result"
    },
    {
     "data": {
      "image/png": "[encoded data removed]",
      "text/plain": [
       "<Figure size 432x288 with 1 Axes>"
      ]
     },
     "metadata": {
      "needs_background": "light"
     },
     "output_type": "display_data"
    }
   ],
   "source": [
    "plt.plot(np.array(fit.elbo_history))\n",
    "fit.converged(), is_monotone(fit.elbo_history)"
   ]
  },
  {
   "cell_type": "code",
   "execution_count": 113,
   "metadata": {},
   "outputs": [
    {
     "data": {
      "text/plain": [
       "(-3.0, 3.0)"
      ]
     },
     "execution_count": 113,
     "metadata": {},
     "output_type": "execute_result"
    },
    {
     "data": {
      "image/png": "[encoded data removed]",
      "text/plain": [
       "<Figure size 432x288 with 1 Axes>"
      ]
     },
     "metadata": {
      "needs_background": "light"
     },
     "output_type": "display_data"
    }
   ],
   "source": [
    "plt.scatter(fit.data['beta'], fit.post_mean)\n",
    "plt.xlim(-3, 3)\n",
    "plt.ylim(-3, 3)"
   ]
  },
  {
   "cell_type": "markdown",
   "metadata": {},
   "source": [
    "## PointNormalMixtureSuSiE"
   ]
  },
  {
   "cell_type": "code",
   "execution_count": 114,
   "metadata": {},
   "outputs": [],
   "source": [
    "## simulate some data\n",
    "np.random.seed(3)\n",
    "\n",
    "n = 10000\n",
    "p = 50\n",
    "\n",
    "# normal mixture params\n",
    "scales = np.array([1.0, 2.0, 4.0, 8.0, 16.0, 32.0])\n",
    "eta = np.random.normal(size = scales.size-1)\n",
    "pi = np.array(eta2pi(eta))\n",
    "\n",
    "# covariates and two-component mixture params\n",
    "X = np.random.normal(size=n*p).reshape(n, -1)\n",
    "Z = np.ones(n)[:, None]\n",
    "\n",
    "coef = np.concatenate([np.ones(3), np.zeros(p-3)])\n",
    "b0 = np.array([-1])\n",
    "\n",
    "logits = X @ coef + Z @ b0\n",
    "pi1 = 1 / (1 + np.exp(-logits))\n",
    "\n",
    "z = np.random.choice(6, replace=True, size=n, p=pi/pi.sum())\n",
    "null = np.random.binomial(1, pi1)\n",
    "beta = np.random.normal(size=n) * scales[z] * null\n",
    "se = np.ones(n)\n",
    "beta_hat = beta + np.random.normal(size=n) * se\n",
    "\n",
    "data = dict(\n",
    "    beta = beta_hat,\n",
    "    se = se,\n",
    "    X = X,\n",
    "    Z = Z\n",
    ")"
   ]
  },
  {
   "cell_type": "code",
   "execution_count": 115,
   "metadata": {},
   "outputs": [],
   "source": [
    "from como.twococomo import PointNormalMixtureSuSiE\n",
    "from como.utils import is_monotone\n",
    "\n",
    "fit = PointNormalMixtureSuSiE(\n",
    "    data,\n",
    "    f1_args = dict(scales=scales, pi = np.ones(scales.size) / scales.size)\n",
    ")\n",
    "\n",
    "fit.fit(niter=50)"
   ]
  },
  {
   "cell_type": "code",
   "execution_count": 116,
   "metadata": {},
   "outputs": [
    {
     "data": {
      "text/plain": [
       "(DeviceArray(False, dtype=bool), True)"
      ]
     },
     "execution_count": 116,
     "metadata": {},
     "output_type": "execute_result"
    },
    {
     "data": {
      "image/png": "[encoded data removed]",
      "text/plain": [
       "<Figure size 432x288 with 1 Axes>"
      ]
     },
     "metadata": {
      "needs_background": "light"
     },
     "output_type": "display_data"
    }
   ],
   "source": [
    "plt.plot(np.array(fit.elbo_history))\n",
    "fit.converged(), is_monotone(fit.elbo_history)"
   ]
  },
  {
   "cell_type": "code",
   "execution_count": 117,
   "metadata": {},
   "outputs": [
    {
     "data": {
      "text/plain": [
       "<matplotlib.collections.PathCollection at 0x7fe26c983310>"
      ]
     },
     "execution_count": 117,
     "metadata": {},
     "output_type": "execute_result"
    },
    {
     "data": {
      "image/png": "[encoded data removed]",
      "text/plain": [
       "<Figure size 432x288 with 1 Axes>"
      ]
     },
     "metadata": {
      "needs_background": "light"
     },
     "output_type": "display_data"
    }
   ],
   "source": [
    "plt.scatter(fit.prior_log_odds, logits)"
   ]
  },
  {
   "cell_type": "code",
   "execution_count": 118,
   "metadata": {},
   "outputs": [
    {
     "data": {
      "text/plain": [
       "array([-2.11, -3.13, -2.21, ..., -2.83, -0.44,  1.19], dtype=float32)"
      ]
     },
     "execution_count": 118,
     "metadata": {},
     "output_type": "execute_result"
    }
   ],
   "source": [
    "fit.prior_log_odds"
   ]
  },
  {
   "cell_type": "code",
   "execution_count": 119,
   "metadata": {},
   "outputs": [
    {
     "data": {
      "text/plain": [
       "(-6.0, 6.0)"
      ]
     },
     "execution_count": 119,
     "metadata": {},
     "output_type": "execute_result"
    },
    {
     "data": {
      "image/png": "[encoded data removed]",
      "text/plain": [
       "<Figure size 432x288 with 2 Axes>"
      ]
     },
     "metadata": {
      "needs_background": "light"
     },
     "output_type": "display_data"
    }
   ],
   "source": [
    "lim = 6\n",
    "sc = plt.scatter(fit.data['beta'], fit.post_mean, c=fit.prior_log_odds)\n",
    "plt.colorbar(sc)\n",
    "plt.xlim(-lim, lim)\n",
    "plt.ylim(-lim, lim)"
   ]
  },
  {
   "cell_type": "code",
   "execution_count": 120,
   "metadata": {},
   "outputs": [],
   "source": [
    "import jax\n",
    "\n",
    "def pi_scanner(gamma, pi_tilde):\n",
    "    \"\"\"\n",
    "    produce the next pi from the current\n",
    "    cumulative probability and conditional probability\n",
    "    use this function to scan over conditional probabilities pi_tilde\n",
    "    \"\"\"\n",
    "    pi = pi_tilde * (1. - gamma)\n",
    "    gamma = gamma + pi\n",
    "    return gamma, pi\n",
    "\n",
    "def pi_tilde2pi(pi_tilde):\n",
    "    \"\"\"\n",
    "    convert vector of conditional mixture probabilities\n",
    "    to mixture probabilities pi\n",
    "\n",
    "    pi_tilde[k] = P(draw k given we did not draw 1... k-1)\n",
    "    pi[k] = P(draw k)\n",
    "    \"\"\"\n",
    "    pi_tilde = jnp.concatenate([pi_tilde, jnp.array([1.0])])\n",
    "    _, pi = jax.lax.scan(pi_scanner, init=0., xs = pi_tilde)\n",
    "    return pi\n",
    "\n",
    "# vectorized version of pi_tilde2pi\n",
    "pi_tilde2pi_vec = jax.vmap(pi_tilde2pi, 1, 0)\n",
    "\n",
    "pi_tilde = np.array([\n",
    "    [0.1, 0.1, 0.1, 0.1],\n",
    "    [0.2, 0.2, 0.2, 0.2]\n",
    "]).T\n",
    "\n",
    "pi = pi_tilde2pi_vec(pi_tilde)"
   ]
  },
  {
   "cell_type": "code",
   "execution_count": 121,
   "metadata": {},
   "outputs": [
    {
     "data": {
      "text/plain": [
       "DeviceArray([1., 1.], dtype=float32)"
      ]
     },
     "execution_count": 121,
     "metadata": {},
     "output_type": "execute_result"
    }
   ],
   "source": [
    "pi.sum(1)"
   ]
  },
  {
   "cell_type": "code",
   "execution_count": 122,
   "metadata": {},
   "outputs": [
    {
     "data": {
      "text/plain": [
       "(4, 2)"
      ]
     },
     "execution_count": 122,
     "metadata": {},
     "output_type": "execute_result"
    }
   ],
   "source": [
    "pi_tilde = jnp.array([\n",
    "    [0.1, 0.1, 0.1, 0.1],\n",
    "    [0.2, 0.2, 0.2, 0.2]\n",
    "]).T\n",
    "pi_tilde.shape"
   ]
  },
  {
   "cell_type": "code",
   "execution_count": 123,
   "metadata": {},
   "outputs": [
    {
     "data": {
      "text/plain": [
       "DeviceArray([0.1, 0.2, 1. ], dtype=float32)"
      ]
     },
     "execution_count": 123,
     "metadata": {},
     "output_type": "execute_result"
    }
   ],
   "source": [
    "jnp.concatenate([pi_tilde[0], jnp.array([1.0])])"
   ]
  },
  {
   "cell_type": "code",
   "execution_count": 124,
   "metadata": {},
   "outputs": [
    {
     "data": {
      "text/plain": [
       "jax._src.numpy.ndarray.ndarray"
      ]
     },
     "execution_count": 124,
     "metadata": {},
     "output_type": "execute_result"
    }
   ],
   "source": [
    "jnp.ndarray"
   ]
  },
  {
   "cell_type": "code",
   "execution_count": null,
   "metadata": {},
   "outputs": [],
   "source": []
  },
  {
   "cell_type": "code",
   "execution_count": null,
   "metadata": {},
   "outputs": [],
   "source": []
  }
 ],
 "metadata": {
  "interpreter": {
   "hash": "aee8b7b246df8f9039afb4144a1f6fd8d2ca17a180786b69acc140d282b71a49"
  },
  "kernelspec": {
   "display_name": "Python 3.9.5 64-bit",
   "language": "python",
   "name": "python3"
  },
  "language_info": {
   "codemirror_mode": {
    "name": "ipython",
    "version": 3
   },
   "file_extension": ".py",
   "mimetype": "text/x-python",
   "name": "python",
   "nbconvert_exporter": "python",
   "pygments_lexer": "ipython3",
   "version": "3.8.3"
  },
  "orig_nbformat": 4
 },
 "nbformat": 4,
 "nbformat_minor": 2
}
